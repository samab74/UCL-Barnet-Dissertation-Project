{
 "cells": [
  {
   "cell_type": "markdown",
   "id": "7b719986",
   "metadata": {},
   "source": [
    "# Crime Data\n",
    "\n",
    "Originally used this API to call all types of crime data based in the Barnet Polygon for a chosen month. This was then formed into a CSV file to give Barnet Crime Data. This code is purely here to show as an example but it was not the months used as ths API is constantly updating and changing it's data, even for certain months."
   ]
  },
  {
   "cell_type": "code",
   "execution_count": 2,
   "id": "fc10d303",
   "metadata": {},
   "outputs": [],
   "source": [
    "import requests\n",
    "import pandas as pd\n",
    "\n",
    "# Coordinates for Barnet in the required format\n",
    "#coordinates = \"51.55519092818953,-0.30557383443798025:51.670170250593905,-0.30557383443798025:51.670170250593905,-0.12909406402138046:51.55519092818953,-0.12909406402138046:51.55519092818953,-0.30557383443798025\"\n",
    "#url = f\"https://data.police.uk/api/crimes-street/all-crime?poly={coordinates}\"\n",
    "\n",
    "# API request\n",
    "#response = requests.get(url)\n",
    "#crimes = response.json()\n",
    "\n",
    "# Convert the JSON data to a DataFrame\n",
    "#if crimes:\n",
    " #   df = pd.DataFrame(crimes)\n",
    "\n",
    "    # Selecting specific columns if needed, or modify as required\n",
    "  #  df = df[['category', 'location_type', 'location', 'context', 'outcome_status', 'persistent_id', 'id', 'location_subtype', 'month']]\n",
    "\n",
    "    # Save the DataFrame to a CSV file\n",
    "   # df.to_csv('barnet_crimes.csv', index=False)\n",
    "    #print(\"Data has been written to barnet_crimes.csv\")\n",
    "#else:\n",
    " #   print(\"No data available for the given date.\")"
   ]
  },
  {
   "cell_type": "markdown",
   "id": "0271f00d",
   "metadata": {},
   "source": [
    "# I will now show you the dataset that was given after conducting this"
   ]
  },
  {
   "cell_type": "code",
   "execution_count": 4,
   "id": "ad33b4bb",
   "metadata": {
    "scrolled": true
   },
   "outputs": [],
   "source": [
    "crime_data = pd.read_csv('barnet_crimes.csv')"
   ]
  },
  {
   "cell_type": "code",
   "execution_count": 5,
   "id": "38245e08",
   "metadata": {},
   "outputs": [
    {
     "data": {
      "text/html": [
       "<div>\n",
       "<style scoped>\n",
       "    .dataframe tbody tr th:only-of-type {\n",
       "        vertical-align: middle;\n",
       "    }\n",
       "\n",
       "    .dataframe tbody tr th {\n",
       "        vertical-align: top;\n",
       "    }\n",
       "\n",
       "    .dataframe thead th {\n",
       "        text-align: right;\n",
       "    }\n",
       "</style>\n",
       "<table border=\"1\" class=\"dataframe\">\n",
       "  <thead>\n",
       "    <tr style=\"text-align: right;\">\n",
       "      <th></th>\n",
       "      <th>category</th>\n",
       "      <th>location_type</th>\n",
       "      <th>location</th>\n",
       "      <th>context</th>\n",
       "      <th>outcome_status</th>\n",
       "      <th>persistent_id</th>\n",
       "      <th>id</th>\n",
       "      <th>location_subtype</th>\n",
       "      <th>month</th>\n",
       "    </tr>\n",
       "  </thead>\n",
       "  <tbody>\n",
       "    <tr>\n",
       "      <th>0</th>\n",
       "      <td>anti-social-behaviour</td>\n",
       "      <td>Force</td>\n",
       "      <td>{'latitude': '51.581318', 'street': {'id': 166...</td>\n",
       "      <td>NaN</td>\n",
       "      <td>NaN</td>\n",
       "      <td>NaN</td>\n",
       "      <td>118521436</td>\n",
       "      <td>NaN</td>\n",
       "      <td>2024-04</td>\n",
       "    </tr>\n",
       "    <tr>\n",
       "      <th>1</th>\n",
       "      <td>anti-social-behaviour</td>\n",
       "      <td>Force</td>\n",
       "      <td>{'latitude': '51.566286', 'street': {'id': 167...</td>\n",
       "      <td>NaN</td>\n",
       "      <td>NaN</td>\n",
       "      <td>NaN</td>\n",
       "      <td>118532989</td>\n",
       "      <td>NaN</td>\n",
       "      <td>2024-04</td>\n",
       "    </tr>\n",
       "    <tr>\n",
       "      <th>2</th>\n",
       "      <td>anti-social-behaviour</td>\n",
       "      <td>Force</td>\n",
       "      <td>{'latitude': '51.594021', 'street': {'id': 166...</td>\n",
       "      <td>NaN</td>\n",
       "      <td>NaN</td>\n",
       "      <td>NaN</td>\n",
       "      <td>118533135</td>\n",
       "      <td>NaN</td>\n",
       "      <td>2024-04</td>\n",
       "    </tr>\n",
       "    <tr>\n",
       "      <th>3</th>\n",
       "      <td>anti-social-behaviour</td>\n",
       "      <td>Force</td>\n",
       "      <td>{'latitude': '51.595721', 'street': {'id': 167...</td>\n",
       "      <td>NaN</td>\n",
       "      <td>NaN</td>\n",
       "      <td>NaN</td>\n",
       "      <td>118533140</td>\n",
       "      <td>NaN</td>\n",
       "      <td>2024-04</td>\n",
       "    </tr>\n",
       "    <tr>\n",
       "      <th>4</th>\n",
       "      <td>anti-social-behaviour</td>\n",
       "      <td>Force</td>\n",
       "      <td>{'latitude': '51.565196', 'street': {'id': 166...</td>\n",
       "      <td>NaN</td>\n",
       "      <td>NaN</td>\n",
       "      <td>NaN</td>\n",
       "      <td>118533141</td>\n",
       "      <td>NaN</td>\n",
       "      <td>2024-04</td>\n",
       "    </tr>\n",
       "  </tbody>\n",
       "</table>\n",
       "</div>"
      ],
      "text/plain": [
       "                category location_type  \\\n",
       "0  anti-social-behaviour         Force   \n",
       "1  anti-social-behaviour         Force   \n",
       "2  anti-social-behaviour         Force   \n",
       "3  anti-social-behaviour         Force   \n",
       "4  anti-social-behaviour         Force   \n",
       "\n",
       "                                            location  context outcome_status  \\\n",
       "0  {'latitude': '51.581318', 'street': {'id': 166...      NaN            NaN   \n",
       "1  {'latitude': '51.566286', 'street': {'id': 167...      NaN            NaN   \n",
       "2  {'latitude': '51.594021', 'street': {'id': 166...      NaN            NaN   \n",
       "3  {'latitude': '51.595721', 'street': {'id': 167...      NaN            NaN   \n",
       "4  {'latitude': '51.565196', 'street': {'id': 166...      NaN            NaN   \n",
       "\n",
       "  persistent_id         id location_subtype    month  \n",
       "0           NaN  118521436              NaN  2024-04  \n",
       "1           NaN  118532989              NaN  2024-04  \n",
       "2           NaN  118533135              NaN  2024-04  \n",
       "3           NaN  118533140              NaN  2024-04  \n",
       "4           NaN  118533141              NaN  2024-04  "
      ]
     },
     "execution_count": 5,
     "metadata": {},
     "output_type": "execute_result"
    }
   ],
   "source": [
    "crime_data.head()"
   ]
  },
  {
   "cell_type": "code",
   "execution_count": 7,
   "id": "76949799",
   "metadata": {},
   "outputs": [
    {
     "data": {
      "text/plain": [
       "(5537, 9)"
      ]
     },
     "execution_count": 7,
     "metadata": {},
     "output_type": "execute_result"
    }
   ],
   "source": [
    "crime_data.shape"
   ]
  },
  {
   "cell_type": "code",
   "execution_count": null,
   "id": "687ab0a4",
   "metadata": {},
   "outputs": [],
   "source": []
  }
 ],
 "metadata": {
  "kernelspec": {
   "display_name": "Python 3 (ipykernel)",
   "language": "python",
   "name": "python3"
  },
  "language_info": {
   "codemirror_mode": {
    "name": "ipython",
    "version": 3
   },
   "file_extension": ".py",
   "mimetype": "text/x-python",
   "name": "python",
   "nbconvert_exporter": "python",
   "pygments_lexer": "ipython3",
   "version": "3.11.5"
  }
 },
 "nbformat": 4,
 "nbformat_minor": 5
}
